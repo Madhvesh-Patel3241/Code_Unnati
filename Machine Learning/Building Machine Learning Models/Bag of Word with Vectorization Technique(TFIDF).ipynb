{
 "cells": [
  {
   "cell_type": "markdown",
   "id": "ba80cfac",
   "metadata": {},
   "source": [
    "# Bag of Word with Vectorization Technique(TFIDF)"
   ]
  },
  {
   "cell_type": "markdown",
   "id": "4af8045e",
   "metadata": {},
   "source": [
    "# Import the necessary Libraries"
   ]
  },
  {
   "cell_type": "code",
   "execution_count": 1,
   "id": "5951ef7c",
   "metadata": {},
   "outputs": [],
   "source": [
    "import pandas as pd\n",
    "from sklearn.feature_extraction.text import TfidfVectorizer"
   ]
  },
  {
   "cell_type": "markdown",
   "id": "d490f1be",
   "metadata": {},
   "source": [
    "# User Defined dataset (Two simple documents countaining one sentence Each)"
   ]
  },
  {
   "cell_type": "code",
   "execution_count": 2,
   "id": "9c64ac7c",
   "metadata": {},
   "outputs": [],
   "source": [
    "documentA = 'the man went out for a walk'\n",
    "documentB = 'the children sat around the fire'"
   ]
  },
  {
   "cell_type": "markdown",
   "id": "d846542c",
   "metadata": {},
   "source": [
    "# BoW (To convert text into vectors of Numbers)"
   ]
  },
  {
   "cell_type": "code",
   "execution_count": 3,
   "id": "f7d7a429",
   "metadata": {},
   "outputs": [
    {
     "name": "stdout",
     "output_type": "stream",
     "text": [
      "['the', 'man', 'went', 'out', 'for', 'a', 'walk']\n",
      "['the', 'children', 'sat', 'around', 'the', 'fire']\n"
     ]
    }
   ],
   "source": [
    "# splits two documents in individual words\n",
    "\n",
    "bagOfWordsA = documentA.split(' ')\n",
    "bagOfWordsB = documentB.split(' ')\n",
    "\n",
    "print(bagOfWordsA)\n",
    "print(bagOfWordsB)"
   ]
  },
  {
   "cell_type": "code",
   "execution_count": 4,
   "id": "4d087119",
   "metadata": {},
   "outputs": [],
   "source": [
    "# remove any duplicate words\n",
    "\n",
    "uniqueWords = set(bagOfWordsA).union(set(bagOfWordsB))"
   ]
  },
  {
   "cell_type": "code",
   "execution_count": 5,
   "id": "8fd70f6d",
   "metadata": {},
   "outputs": [
    {
     "name": "stdout",
     "output_type": "stream",
     "text": [
      "   children  fire  a  for  around  walk  out  sat  went  man  the\n",
      "0         0     0  1    1       0     1    1    0     1    1    1\n",
      "1         1     1  0    0       1     0    0    1     0    0    2\n"
     ]
    }
   ],
   "source": [
    "# create a dictionary of words and their occurence for each document in the \n",
    "\n",
    "numOfWordsA = dict.fromkeys(uniqueWords, 0)\n",
    "\n",
    "for word in bagOfWordsA:\n",
    "    numOfWordsA[word] += 1\n",
    "    \n",
    "numOfWordsB = dict.fromkeys(uniqueWords, 0)\n",
    "\n",
    "for word in bagOfWordsB:\n",
    "    numOfWordsB[word] += 1\n",
    "    \n",
    "df = pd.DataFrame([numOfWordsA, numOfWordsB])\n",
    "\n",
    "print(df)"
   ]
  },
  {
   "cell_type": "markdown",
   "id": "ef88601e",
   "metadata": {},
   "source": [
    "# Term Frequency (TF)"
   ]
  },
  {
   "cell_type": "code",
   "execution_count": 6,
   "id": "ff353b68",
   "metadata": {},
   "outputs": [],
   "source": [
    "def computeTF(wordDict, bagOfWords):\n",
    "    tfDict = {}\n",
    "    bagOfWordsCount = len(bagOfWords)\n",
    "    for word, count in wordDict.items():\n",
    "        tfDict[word] = count / float(bagOfWordsCount)\n",
    "    return tfDict"
   ]
  },
  {
   "cell_type": "code",
   "execution_count": 7,
   "id": "d2cacb44",
   "metadata": {},
   "outputs": [],
   "source": [
    "# compute the term frequency for each of documents\n",
    "\n",
    "tfA = computeTF(numOfWordsA, bagOfWordsA)\n",
    "tfB = computeTF(numOfWordsB, bagOfWordsB)"
   ]
  },
  {
   "cell_type": "markdown",
   "id": "1cc6d7d5",
   "metadata": {},
   "source": [
    "# Inverse Data Frequency (IDF)"
   ]
  },
  {
   "cell_type": "code",
   "execution_count": 8,
   "id": "ec7e7fd7",
   "metadata": {},
   "outputs": [],
   "source": [
    "def computeIDF(documents):\n",
    "    import math\n",
    "    N = len(documents)\n",
    "    \n",
    "    idfDict = dict.fromkeys(documents[0].keys(), 0)\n",
    "    for document in documents:\n",
    "        for word, val in document.items():\n",
    "            if val > 0:\n",
    "                idfDict[word] += 1\n",
    "            \n",
    "    for word, val in idfDict.items():\n",
    "        idfDict[word] = math.log(N / float(val))\n",
    "    return idfDict"
   ]
  },
  {
   "cell_type": "code",
   "execution_count": 9,
   "id": "a01775a8",
   "metadata": {},
   "outputs": [
    {
     "name": "stdout",
     "output_type": "stream",
     "text": [
      "   children      fire         a       for    around      walk       out  \\\n",
      "0  0.693147  0.693147  0.693147  0.693147  0.693147  0.693147  0.693147   \n",
      "\n",
      "        sat      went       man  the  \n",
      "0  0.693147  0.693147  0.693147  0.0  \n"
     ]
    }
   ],
   "source": [
    "# the IDF is computed once for all documents\n",
    "\n",
    "idfs = computeIDF([numOfWordsA, numOfWordsB])\n",
    "df = pd.DataFrame([idfs])\n",
    "\n",
    "print(df)"
   ]
  },
  {
   "cell_type": "code",
   "execution_count": 10,
   "id": "9d2f0061",
   "metadata": {},
   "outputs": [],
   "source": [
    "# the IF-IDF is simply the TF Multiplied by IDF\n",
    "\n",
    "def computeTFIDF(tfbagOfWords, idfs):\n",
    "    tfidf = {}\n",
    "    for word, val in tfbagOfWords.items():\n",
    "        tfidf[word] = val * idfs[word]\n",
    "    return tfidf"
   ]
  },
  {
   "cell_type": "code",
   "execution_count": 11,
   "id": "b51f2884",
   "metadata": {},
   "outputs": [
    {
     "name": "stdout",
     "output_type": "stream",
     "text": [
      "   children      fire         a       for    around      walk       out  \\\n",
      "0  0.000000  0.000000  0.099021  0.099021  0.000000  0.099021  0.099021   \n",
      "1  0.115525  0.115525  0.000000  0.000000  0.115525  0.000000  0.000000   \n",
      "\n",
      "        sat      went       man  the  \n",
      "0  0.000000  0.099021  0.099021  0.0  \n",
      "1  0.115525  0.000000  0.000000  0.0  \n"
     ]
    }
   ],
   "source": [
    "# compute the TF-IDF scores for all the words in the corpus\n",
    "\n",
    "tfidfA = computeTFIDF(tfA, idfs)\n",
    "tfidfB = computeTFIDF(tfB, idfs)\n",
    "df = pd.DataFrame([tfidfA, tfidfB])\n",
    "\n",
    "print(df)"
   ]
  }
 ],
 "metadata": {
  "kernelspec": {
   "display_name": "Python 3",
   "language": "python",
   "name": "python3"
  },
  "language_info": {
   "codemirror_mode": {
    "name": "ipython",
    "version": 3
   },
   "file_extension": ".py",
   "mimetype": "text/x-python",
   "name": "python",
   "nbconvert_exporter": "python",
   "pygments_lexer": "ipython3",
   "version": "3.10.5"
  }
 },
 "nbformat": 4,
 "nbformat_minor": 5
}
