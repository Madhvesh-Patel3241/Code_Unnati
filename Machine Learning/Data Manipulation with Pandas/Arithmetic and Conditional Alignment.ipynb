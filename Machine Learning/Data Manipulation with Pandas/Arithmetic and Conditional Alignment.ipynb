{
 "cells": [
  {
   "cell_type": "markdown",
   "id": "e0efd6df",
   "metadata": {},
   "source": [
    "# Arithmetic and Conditional Alignment"
   ]
  },
  {
   "cell_type": "code",
   "execution_count": 1,
   "id": "fb6bced6",
   "metadata": {},
   "outputs": [
    {
     "name": "stdout",
     "output_type": "stream",
     "text": [
      "       Weight    Name  Age\n",
      "Row_1      45     sam   14\n",
      "Row_2      88  Andrea   25\n",
      "Row_3      56    Alex   55\n",
      "Row_4      15   Robin    8\n",
      "Row_5      71     Kia   21\n"
     ]
    }
   ],
   "source": [
    "#importing panadas as pd\n",
    "import pandas as pd \n",
    "\n",
    "#Creating the Dataframe \n",
    "df = pd.DataFrame({'Weight':[45, 88, 56, 15, 71],\n",
    "                  'Name':['sam', 'Andrea', 'Alex', 'Robin', 'Kia'],\n",
    "                  'Age':[14, 25, 55, 8, 21]})\n",
    "\n",
    "#Create the index\n",
    "index_ =['Row_1', 'Row_2', 'Row_3', 'Row_4', 'Row_5']\n",
    "\n",
    "#Set the index\n",
    "df.index = index_\n",
    "\n",
    "#print the Dataframe\n",
    "print(df)"
   ]
  },
  {
   "cell_type": "code",
   "execution_count": 2,
   "id": "3fffb3d0",
   "metadata": {},
   "outputs": [
    {
     "name": "stdout",
     "output_type": "stream",
     "text": [
      "Andrea\n"
     ]
    }
   ],
   "source": [
    "#return the value\n",
    "result = df.loc['Row_2', 'Name']\n",
    "\n",
    "#print the result\n",
    "print(result)"
   ]
  },
  {
   "cell_type": "code",
   "execution_count": 3,
   "id": "8138aee5",
   "metadata": {},
   "outputs": [
    {
     "name": "stdout",
     "output_type": "stream",
     "text": [
      "          A     B   C     D\n",
      "Row_1  12.0   7.0  20  14.0\n",
      "Row_2   4.0   2.0  16   3.0\n",
      "Row_3   5.0  54.0  11   NaN\n",
      "Row_4   NaN   3.0   3   2.0\n",
      "Row_5   1.0   NaN   8   6.0\n"
     ]
    }
   ],
   "source": [
    "#importing panadas as pd\n",
    "import pandas as pd \n",
    "\n",
    "#Creating the Dataframe \n",
    "df = pd.DataFrame({\"A\":[12, 4, 5, None, 1],\n",
    "                  \"B\":[7, 2, 54, 3, None],\n",
    "                  \"C\":[20, 16, 11, 3, 8],\n",
    "                  \"D\":[14, 3, None, 2, 6]})\n",
    "\n",
    "#Create the index\n",
    "index_ =['Row_1', 'Row_2', 'Row_3', 'Row_4', 'Row_5']\n",
    "\n",
    "#Set the index\n",
    "df.index = index_\n",
    "\n",
    "#print the Dataframe\n",
    "print(df)"
   ]
  },
  {
   "cell_type": "code",
   "execution_count": 4,
   "id": "ecc8a9ad",
   "metadata": {},
   "outputs": [
    {
     "name": "stdout",
     "output_type": "stream",
     "text": [
      "          A     B   C   D\n",
      "Row_1  12.0   7.0  20  14\n",
      "Row_2   4.0   2.0  16   3\n",
      "Row_3   5.0  54.0  11   9\n",
      "Row_4   NaN   3.0   3   2\n",
      "Row_5   1.0   NaN   8   6\n"
     ]
    }
   ],
   "source": [
    "#importing panadas as pd\n",
    "import pandas as pd \n",
    "\n",
    "#Creating the Dataframe \n",
    "df = pd.DataFrame({\"A\":[12, 4, 5, None, 1],\n",
    "                  \"B\":[7, 2, 54, 3, None],\n",
    "                  \"C\":[20, 16, 11, 3, 8],\n",
    "                  \"D\":[14, 3, 9, 2, 6]})\n",
    "\n",
    "#Create the index\n",
    "index_ =['Row_1', 'Row_2', 'Row_3', 'Row_4', 'Row_5']\n",
    "\n",
    "#Set the index\n",
    "df.index = index_\n",
    "\n",
    "#print the Dataframe\n",
    "print(df)"
   ]
  },
  {
   "cell_type": "code",
   "execution_count": 5,
   "id": "04695d22",
   "metadata": {},
   "outputs": [
    {
     "name": "stdout",
     "output_type": "stream",
     "text": [
      "          A   D\n",
      "Row_1  12.0  14\n",
      "Row_2   4.0   3\n",
      "Row_3   5.0   9\n",
      "Row_4   NaN   2\n",
      "Row_5   1.0   6\n"
     ]
    }
   ],
   "source": [
    "#return the values\n",
    "result = df.loc[:, ['A', 'D']]\n",
    "\n",
    "#Print the result\n",
    "print(result)"
   ]
  },
  {
   "cell_type": "code",
   "execution_count": 6,
   "id": "c968d7a6",
   "metadata": {},
   "outputs": [
    {
     "name": "stdout",
     "output_type": "stream",
     "text": [
      "        A   B   C   D\n",
      "Row_1  12   7  20  14\n",
      "Row_2   4   2  16   3\n",
      "Row_3   5  54  11   2\n",
      "Row_4   1   3   8   6\n"
     ]
    }
   ],
   "source": [
    "#importing panadas as pd\n",
    "import pandas as pd \n",
    "\n",
    "#Creating the Dataframe \n",
    "df = pd.DataFrame({\"A\":[12, 4, 5, 1],\n",
    "                  \"B\":[7, 2, 54, 3],\n",
    "                  \"C\":[20, 16, 11, 8],\n",
    "                  \"D\":[14, 3, 2, 6]})\n",
    "\n",
    "#Create the index\n",
    "index_ =['Row_1', 'Row_2', 'Row_3', 'Row_4']\n",
    "\n",
    "#Set the index\n",
    "df.index = index_\n",
    "\n",
    "#print the Dataframe\n",
    "print(df)"
   ]
  }
 ],
 "metadata": {
  "kernelspec": {
   "display_name": "Python 3",
   "language": "python",
   "name": "python3"
  },
  "language_info": {
   "codemirror_mode": {
    "name": "ipython",
    "version": 3
   },
   "file_extension": ".py",
   "mimetype": "text/x-python",
   "name": "python",
   "nbconvert_exporter": "python",
   "pygments_lexer": "ipython3",
   "version": "3.10.5"
  }
 },
 "nbformat": 4,
 "nbformat_minor": 5
}
