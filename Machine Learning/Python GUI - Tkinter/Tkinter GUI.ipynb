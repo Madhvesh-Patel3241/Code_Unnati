{
 "cells": [
  {
   "cell_type": "markdown",
   "id": "92b310d8",
   "metadata": {},
   "source": [
    "# Tinker"
   ]
  },
  {
   "cell_type": "markdown",
   "id": "2fbed780",
   "metadata": {},
   "source": [
    "## Importing Library & Adding Window"
   ]
  },
  {
   "cell_type": "code",
   "execution_count": 1,
   "id": "122532e8",
   "metadata": {},
   "outputs": [],
   "source": [
    "## importing libraries\n",
    "from tkinter import *\n",
    "import ttk\n",
    "from tkinter.ttk import *"
   ]
  },
  {
   "cell_type": "markdown",
   "id": "0d16016d",
   "metadata": {},
   "source": [
    "## Adding Window"
   ]
  },
  {
   "cell_type": "code",
   "execution_count": 2,
   "id": "efc27657",
   "metadata": {},
   "outputs": [],
   "source": [
    "window = Tk()\n",
    "\n",
    "window.title(\"Welcome to Python Tkinter\")\n",
    "window.configure(bg='cyan')\n",
    "\n",
    "window.geometry('1000x700')\n",
    "\n",
    "##Adding the Label on the window\n",
    "\n",
    "label = Label(window, text=\"Hello, \", font = (\"Helvetica 15\"))\n",
    "\n",
    "label.grid(column=0, row=0)\n",
    "\n",
    "##Adding the Entry on the window -- (to get input from user)\n",
    "\n",
    "txt = Entry(window, width = 50)\n",
    "\n",
    "txt.grid(column = 50, row = 1)\n",
    "\n",
    "def clicked():         ##After clicking It will add the user added string to the name value\n",
    "    \n",
    "    name = \"Welcome \" + txt.get()\n",
    "    \n",
    "    label.configure(text= name)\n",
    "    \n",
    "##Creating a button on the window\n",
    "\n",
    "btn = Button(window, text=\"Click Here\", command=clicked)\n",
    "\n",
    "btn.grid(column=100, row=50)\n",
    "\n",
    "def clicked():\n",
    "    \n",
    "    label.configure(text = \"After, Button was clicked !!, we have seen the change\")\n",
    "    \n",
    "window.mainloop()"
   ]
  }
 ],
 "metadata": {
  "kernelspec": {
   "display_name": "Python 3",
   "language": "python",
   "name": "python3"
  },
  "language_info": {
   "codemirror_mode": {
    "name": "ipython",
    "version": 3
   },
   "file_extension": ".py",
   "mimetype": "text/x-python",
   "name": "python",
   "nbconvert_exporter": "python",
   "pygments_lexer": "ipython3",
   "version": "3.10.5"
  }
 },
 "nbformat": 4,
 "nbformat_minor": 5
}
