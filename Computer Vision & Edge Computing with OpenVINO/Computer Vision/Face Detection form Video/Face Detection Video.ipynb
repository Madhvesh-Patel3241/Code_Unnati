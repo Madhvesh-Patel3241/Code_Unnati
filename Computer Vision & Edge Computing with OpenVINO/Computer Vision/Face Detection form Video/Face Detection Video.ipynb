{
 "cells": [
  {
   "cell_type": "code",
   "execution_count": 2,
   "id": "06fbc39e",
   "metadata": {},
   "outputs": [],
   "source": [
    "#import the necessary packages\n",
    "import cv2\n",
    "\n",
    "# load the cascade \n",
    "face_cascade = cv2.CascadeClassifier('haarcascade_frontalface_default.xml')\n",
    "\n",
    "# To capture video from webcam.\n",
    "# cap = cv2.Videocapture(0)\n",
    "# To use a video file as input\n",
    "cap = cv2.VideoCapture('Video.mp4')\n",
    "\n",
    "while True:\n",
    "    # Read the Frame\n",
    "    _,img = cap.read()\n",
    "    #convert to Grayscale\n",
    "    gray = cv2.cvtColor(img, cv2.COLOR_BGR2GRAY)\n",
    "    # Detect the faces\n",
    "    faces = face_cascade.detectMultiScale(gray, 1.1, 4)\n",
    "    # Draw the Rectangle around each face \n",
    "    for (x, y, w, h) in faces:\n",
    "        cv2.rectangle(img, (x, y), (x+w, y+h), (0,0,255), 2)\n",
    "    # Display \n",
    "    cv2.imshow('img', img)\n",
    "    # Stop if escape key is pressed\n",
    "    \n",
    "    k = cv2.waitKey(250) & 0xff\n",
    "    if k==27:\n",
    "        break\n",
    "cv2.destroyAllWindows()\n",
    "# Release the videoCapture object\n",
    "cap.release()"
   ]
  }
 ],
 "metadata": {
  "kernelspec": {
   "display_name": "Python 3",
   "language": "python",
   "name": "python3"
  },
  "language_info": {
   "codemirror_mode": {
    "name": "ipython",
    "version": 3
   },
   "file_extension": ".py",
   "mimetype": "text/x-python",
   "name": "python",
   "nbconvert_exporter": "python",
   "pygments_lexer": "ipython3",
   "version": "3.10.5"
  }
 },
 "nbformat": 4,
 "nbformat_minor": 5
}
