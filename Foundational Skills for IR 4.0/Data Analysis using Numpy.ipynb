{
 "cells": [
  {
   "cell_type": "markdown",
   "id": "248f7919",
   "metadata": {},
   "source": [
    "# Numpy - Numerical Python Library"
   ]
  },
  {
   "cell_type": "code",
   "execution_count": 1,
   "id": "6cf9b4d6",
   "metadata": {},
   "outputs": [],
   "source": [
    "#import Numpy Library\n",
    "\n",
    "import numpy as np"
   ]
  },
  {
   "cell_type": "code",
   "execution_count": 2,
   "id": "7be5d5a7",
   "metadata": {},
   "outputs": [
    {
     "data": {
      "text/plain": [
       "array([[1, 2, 3, 4],\n",
       "       [5, 6, 7, 8]])"
      ]
     },
     "execution_count": 2,
     "metadata": {},
     "output_type": "execute_result"
    }
   ],
   "source": [
    "#create simple array from the list\n",
    "\n",
    "arr = np.array([[1,2,3,4],[5,6,7,8]])\n",
    "arr\n"
   ]
  },
  {
   "cell_type": "code",
   "execution_count": 3,
   "id": "47bfd9ca",
   "metadata": {},
   "outputs": [
    {
     "name": "stdout",
     "output_type": "stream",
     "text": [
      "2\n"
     ]
    }
   ],
   "source": [
    "#dimension of the array \n",
    "\n",
    "print(arr.ndim)"
   ]
  },
  {
   "cell_type": "code",
   "execution_count": 4,
   "id": "26b2f5c1",
   "metadata": {},
   "outputs": [
    {
     "name": "stdout",
     "output_type": "stream",
     "text": [
      "(2, 4)\n"
     ]
    }
   ],
   "source": [
    "#shape of the array\n",
    "\n",
    "print(arr.shape)"
   ]
  },
  {
   "cell_type": "code",
   "execution_count": 5,
   "id": "28cd89d6",
   "metadata": {},
   "outputs": [
    {
     "name": "stdout",
     "output_type": "stream",
     "text": [
      "<class 'numpy.ndarray'>\n"
     ]
    }
   ],
   "source": [
    "#type of the array\n",
    "\n",
    "print(type(arr))"
   ]
  },
  {
   "cell_type": "code",
   "execution_count": 6,
   "id": "9dd59898",
   "metadata": {},
   "outputs": [
    {
     "name": "stdout",
     "output_type": "stream",
     "text": [
      "<memory at 0x0000022390876A80>\n"
     ]
    }
   ],
   "source": [
    "#data memory location  of the array\n",
    "\n",
    "print(arr.data)"
   ]
  },
  {
   "cell_type": "code",
   "execution_count": 7,
   "id": "d97a4383",
   "metadata": {},
   "outputs": [],
   "source": [
    "# In 2-D array \n",
    "#axis = 0 (column) \n",
    "#axis = 1 (Row)\n"
   ]
  },
  {
   "cell_type": "code",
   "execution_count": 8,
   "id": "535a1db7",
   "metadata": {},
   "outputs": [
    {
     "name": "stdout",
     "output_type": "stream",
     "text": [
      "[[20 21 22]\n",
      " [25 26 27]\n",
      " [30 31 32]] \n",
      "\n"
     ]
    }
   ],
   "source": [
    "b = np.array([[20,21,22],[25,26,27],[30,31,32]])\n",
    "print(b , \"\\n\")"
   ]
  },
  {
   "cell_type": "code",
   "execution_count": 9,
   "id": "2c39ca72",
   "metadata": {},
   "outputs": [
    {
     "data": {
      "text/plain": [
       "dtype('int32')"
      ]
     },
     "execution_count": 9,
     "metadata": {},
     "output_type": "execute_result"
    }
   ],
   "source": [
    "b.dtype"
   ]
  },
  {
   "cell_type": "code",
   "execution_count": 10,
   "id": "57030cba",
   "metadata": {},
   "outputs": [
    {
     "data": {
      "text/plain": [
       "4"
      ]
     },
     "execution_count": 10,
     "metadata": {},
     "output_type": "execute_result"
    }
   ],
   "source": [
    "b.itemsize"
   ]
  },
  {
   "cell_type": "code",
   "execution_count": 11,
   "id": "f5777ffd",
   "metadata": {},
   "outputs": [
    {
     "data": {
      "text/plain": [
       "9"
      ]
     },
     "execution_count": 11,
     "metadata": {},
     "output_type": "execute_result"
    }
   ],
   "source": [
    "b.size"
   ]
  },
  {
   "cell_type": "code",
   "execution_count": 12,
   "id": "39bf1320",
   "metadata": {},
   "outputs": [
    {
     "data": {
      "text/plain": [
       "(3, 3)"
      ]
     },
     "execution_count": 12,
     "metadata": {},
     "output_type": "execute_result"
    }
   ],
   "source": [
    "b.shape"
   ]
  },
  {
   "cell_type": "code",
   "execution_count": 13,
   "id": "115c8e13",
   "metadata": {},
   "outputs": [
    {
     "name": "stdout",
     "output_type": "stream",
     "text": [
      "[[20. 21. 22.]\n",
      " [25. 26. 27.]\n",
      " [30. 31. 32.]] \n",
      "\n",
      "float64 \n",
      "\n",
      "8\n"
     ]
    }
   ],
   "source": [
    "b = np.array([[20,21,22],[25,26,27],[30,31,32]], dtype=np.float64)\n",
    "print(b, \"\\n\")\n",
    "print(b.dtype,\"\\n\")\n",
    "print(b.itemsize)"
   ]
  },
  {
   "cell_type": "code",
   "execution_count": 14,
   "id": "f66c8c7f",
   "metadata": {},
   "outputs": [
    {
     "name": "stdout",
     "output_type": "stream",
     "text": [
      "[[20.+0.j 21.+0.j 22.+0.j]\n",
      " [25.+0.j 26.+0.j 27.+0.j]\n",
      " [30.+0.j 31.+0.j 32.+0.j]] \n",
      "\n",
      "complex64 \n",
      "\n",
      "8 \n",
      "\n",
      "[[20.+0.j 21.+0.j 22.+0.j]\n",
      " [25.+0.j 26.+0.j 27.+0.j]\n",
      " [30.+0.j 31.+0.j 32.+0.j]] \n",
      "\n",
      "complex128 \n",
      "\n",
      "16\n"
     ]
    }
   ],
   "source": [
    "z = np.array([[20,21,22],[25,26,27],[30,31,32]], dtype=np.complex64)\n",
    "t = np.array([[20,21,22],[25,26,27],[30,31,32]], dtype=np.complex128)\n",
    "print(z, \"\\n\")\n",
    "print(z.dtype, \"\\n\")\n",
    "print(z.itemsize, \"\\n\")\n",
    "print(t, \"\\n\")\n",
    "print(t.dtype, \"\\n\")\n",
    "print(t.itemsize)"
   ]
  },
  {
   "cell_type": "code",
   "execution_count": 15,
   "id": "91a81939",
   "metadata": {},
   "outputs": [
    {
     "name": "stdout",
     "output_type": "stream",
     "text": [
      "234.0\n"
     ]
    }
   ],
   "source": [
    "#sum value of an array\n",
    "\n",
    "print(np.sum(b))"
   ]
  },
  {
   "cell_type": "code",
   "execution_count": 16,
   "id": "6d3e9a21",
   "metadata": {},
   "outputs": [
    {
     "name": "stdout",
     "output_type": "stream",
     "text": [
      "[[20. 21. 22.]\n",
      " [25. 26. 27.]\n",
      " [30. 31. 32.]] \n",
      "\n",
      "[75. 78. 81.]\n",
      "[63. 78. 93.]\n"
     ]
    }
   ],
   "source": [
    "#sum value along a specified axis\n",
    "print(b, \"\\n\")\n",
    "print(np.sum(b, axis = 0))\n",
    "print(np.sum(b,axis = 1))"
   ]
  },
  {
   "cell_type": "code",
   "execution_count": 17,
   "id": "7b4f9949",
   "metadata": {},
   "outputs": [
    {
     "name": "stdout",
     "output_type": "stream",
     "text": [
      "[[20. 21. 22.]\n",
      " [25. 26. 27.]\n",
      " [30. 31. 32.]] \n",
      "\n",
      "20.0\n",
      "[20. 21. 22.]\n",
      "[20. 25. 30.]\n"
     ]
    }
   ],
   "source": [
    "#minimize value\n",
    "print(b, \"\\n\")\n",
    "print(np.min(b))\n",
    "print(np.min(b,axis=0))\n",
    "print(np.min(b,axis=1))"
   ]
  },
  {
   "cell_type": "code",
   "execution_count": 18,
   "id": "021fbbfc",
   "metadata": {},
   "outputs": [
    {
     "name": "stdout",
     "output_type": "stream",
     "text": [
      "32.0\n",
      "[30. 31. 32.]\n",
      "[22. 27. 32.]\n",
      "<class 'numpy.ndarray'>\n"
     ]
    }
   ],
   "source": [
    "#Maximum Value\n",
    "print(np.max(b))\n",
    "print(np.max(b,axis=0))\n",
    "print(np.max(b,axis=1))\n",
    "print(type(b))"
   ]
  },
  {
   "cell_type": "code",
   "execution_count": 19,
   "id": "d0bc153d",
   "metadata": {},
   "outputs": [
    {
     "name": "stdout",
     "output_type": "stream",
     "text": [
      "[[20. 21. 22.]\n",
      " [25. 26. 27.]\n",
      " [30. 31. 32.]] \n",
      "\n",
      "26.0\n",
      "[25. 26. 27.]\n",
      "[21. 26. 31.]\n",
      "<class 'numpy.ndarray'>\n"
     ]
    }
   ],
   "source": [
    "#Mean \n",
    "print(b, \"\\n\")\n",
    "print(np.mean(b))\n",
    "print(np.mean(b,axis=0))\n",
    "print(np.mean(b,axis=1))\n",
    "print(type(b))"
   ]
  },
  {
   "cell_type": "code",
   "execution_count": 20,
   "id": "27bf2aed",
   "metadata": {},
   "outputs": [
    {
     "name": "stdout",
     "output_type": "stream",
     "text": [
      "[[20. 21. 22.]\n",
      " [25. 26. 27.]\n",
      " [30. 31. 32.]] \n",
      "\n",
      "4.163331998932265\n",
      "[4.0824829 4.0824829 4.0824829]\n",
      "[0.81649658 0.81649658 0.81649658]\n",
      "<class 'numpy.ndarray'>\n"
     ]
    }
   ],
   "source": [
    "#standatrd Deviation\n",
    "print(b, \"\\n\")\n",
    "print(np.std(b))\n",
    "print(np.std(b,axis=0))\n",
    "print(np.std(b,axis=1))\n",
    "print(type(b))"
   ]
  },
  {
   "cell_type": "code",
   "execution_count": 21,
   "id": "bfcebfb0",
   "metadata": {},
   "outputs": [
    {
     "name": "stdout",
     "output_type": "stream",
     "text": [
      "[[20. 21. 22.]\n",
      " [25. 26. 27.]\n",
      " [30. 31. 32.]] \n",
      "\n",
      "17.333333333333332\n",
      "[16.66666667 16.66666667 16.66666667]\n",
      "[0.66666667 0.66666667 0.66666667]\n",
      "<class 'numpy.ndarray'>\n"
     ]
    }
   ],
   "source": [
    "# Variance\n",
    "print(b, \"\\n\")\n",
    "print(np.var(b))\n",
    "print(np.var(b,axis=0))\n",
    "print(np.var(b,axis=1))\n",
    "print(type(b))"
   ]
  },
  {
   "cell_type": "code",
   "execution_count": 22,
   "id": "2aed83e8",
   "metadata": {},
   "outputs": [
    {
     "name": "stdout",
     "output_type": "stream",
     "text": [
      "26.0\n"
     ]
    }
   ],
   "source": [
    "# Weighted average\n",
    "print(np.average(b))"
   ]
  },
  {
   "cell_type": "code",
   "execution_count": 23,
   "id": "759545ff",
   "metadata": {},
   "outputs": [
    {
     "name": "stdout",
     "output_type": "stream",
     "text": [
      "[ 2  4  6  1  3  5  8 10 12  7  9 11]\n"
     ]
    }
   ],
   "source": [
    "c = np.array([2,4,6, 1,3,5, 8,10,12, 7,9,11])\n",
    "print(c)"
   ]
  },
  {
   "cell_type": "code",
   "execution_count": 24,
   "id": "34beadae",
   "metadata": {},
   "outputs": [
    {
     "name": "stdout",
     "output_type": "stream",
     "text": [
      "[0.25 0.5  0.25 0.5  0.25 0.5  0.25 0.5  0.25 0.5  0.25 0.5 ]\n"
     ]
    }
   ],
   "source": [
    "weight = np.array([0.25,0.5,0.25,0.5,0.25,0.5,0.25,0.5,0.25,0.5,0.25,0.5,])\n",
    "print(weight)"
   ]
  },
  {
   "cell_type": "code",
   "execution_count": 25,
   "id": "fd965346",
   "metadata": {},
   "outputs": [
    {
     "name": "stdout",
     "output_type": "stream",
     "text": [
      "6.444444444444445\n"
     ]
    }
   ],
   "source": [
    "print(np.average(c, weights=weight))"
   ]
  },
  {
   "cell_type": "code",
   "execution_count": 26,
   "id": "4cf50d40",
   "metadata": {},
   "outputs": [
    {
     "name": "stdout",
     "output_type": "stream",
     "text": [
      "[ 2  4  6  1  3  5  8 10 12  7  9 11] \n",
      "\n",
      "1.55\n",
      "1.88\n",
      "[20.1 25.1 30.1]\n",
      "[20.5 21.5 22.5]\n",
      "[20.4 21.4 22.4]\n",
      "[20.08 25.08 30.08]\n"
     ]
    }
   ],
   "source": [
    "#Percentile\n",
    "print(c, \"\\n\")\n",
    "print(np.percentile(c,5,0))\n",
    "print(np.percentile(c,8,0))\n",
    "print(np.percentile(b,5,1))\n",
    "print(np.percentile(b,5,0))\n",
    "print(np.percentile(b,4,0))\n",
    "print(np.percentile(b,4,1))"
   ]
  },
  {
   "cell_type": "code",
   "execution_count": 27,
   "id": "e2f61daa",
   "metadata": {},
   "outputs": [
    {
     "name": "stdout",
     "output_type": "stream",
     "text": [
      "[[20. 21. 22.]\n",
      " [25. 26. 27.]\n",
      " [30. 31. 32.]] \n",
      "\n",
      "[ 2  4  6  1  3  5  8 10 12  7  9 11] \n",
      "\n",
      "11\n",
      "[10. 10. 10.]\n",
      "[2. 2. 2.]\n"
     ]
    }
   ],
   "source": [
    "#peak to peak \n",
    "print(b, \"\\n\")\n",
    "\n",
    "print(c, \"\\n\")\n",
    "# difference of maximum and minimum \n",
    "print(np.ptp(c,0))\n",
    "print(np.ptp(b,0))\n",
    "print(np.ptp(b,1))\n"
   ]
  },
  {
   "cell_type": "code",
   "execution_count": 28,
   "id": "b8d5fd9f",
   "metadata": {},
   "outputs": [
    {
     "name": "stdout",
     "output_type": "stream",
     "text": [
      "[[20. 21. 22.]\n",
      " [25. 26. 27.]\n",
      " [30. 31. 32.]] \n",
      "\n",
      "(3, 3) \n",
      "\n",
      "[[20. 21. 22. 25. 26. 27. 30. 31. 32.]] \n",
      "\n",
      "[[20. 21. 22.]\n",
      " [25. 26. 27.]\n",
      " [30. 31. 32.]]\n"
     ]
    }
   ],
   "source": [
    "print(b, \"\\n\")\n",
    "print(b.shape, \"\\n\")\n",
    "print(b.reshape(1,9), \"\\n\")\n",
    "print(b)\n"
   ]
  },
  {
   "cell_type": "code",
   "execution_count": 29,
   "id": "d4d732f5",
   "metadata": {},
   "outputs": [
    {
     "name": "stdout",
     "output_type": "stream",
     "text": [
      "[[20 19 22  5]\n",
      " [25 26 27 18]\n",
      " [30 12 31 32]] \n",
      "\n",
      "[10 14  9 27]\n",
      "[17  9 20]\n"
     ]
    }
   ],
   "source": [
    "d = np.array([[20,19,22,5],[25,26,27,18],[30,12,31,32]])\n",
    "print(d, \"\\n\")\n",
    "print(np.ptp(d,0))\n",
    "print(np.ptp(d,1))\n"
   ]
  },
  {
   "cell_type": "code",
   "execution_count": 30,
   "id": "60d1c0bc",
   "metadata": {},
   "outputs": [
    {
     "name": "stdout",
     "output_type": "stream",
     "text": [
      "[[20 19 22  5]\n",
      " [25 26 27 18]\n",
      " [30 12 31 32]] \n",
      "\n",
      "(3, 4) \n",
      "\n",
      "[[20 19]\n",
      " [22  5]\n",
      " [25 26]\n",
      " [27 18]\n",
      " [30 12]\n",
      " [31 32]] \n",
      "\n",
      "[[20 19 22  5]\n",
      " [25 26 27 18]\n",
      " [30 12 31 32]]\n"
     ]
    }
   ],
   "source": [
    "print(d, \"\\n\")\n",
    "print(d.shape, \"\\n\")\n",
    "print(d.reshape(6,2), \"\\n\")\n",
    "print(d)\n"
   ]
  },
  {
   "cell_type": "code",
   "execution_count": 31,
   "id": "c3b2c5bd",
   "metadata": {},
   "outputs": [
    {
     "name": "stdout",
     "output_type": "stream",
     "text": [
      "[25, 35, 50, 55] \n",
      "\n",
      "95\n"
     ]
    }
   ],
   "source": [
    "#Slicing\n",
    "e = [25,35,50,55,70,85,95]\n",
    "print(e[0:4], \"\\n\")\n",
    "print(e[-1])"
   ]
  },
  {
   "cell_type": "code",
   "execution_count": 32,
   "id": "766d71cf",
   "metadata": {},
   "outputs": [
    {
     "name": "stdout",
     "output_type": "stream",
     "text": [
      "[[23 25 27 29]\n",
      " [43 45 47 49]\n",
      " [62 66 68 70]] \n",
      "\n",
      "29 \n",
      "\n",
      "47 \n",
      "\n",
      "70 \n",
      "\n",
      "25 \n",
      "\n",
      "[25 45] \n",
      "\n",
      "[62 66 68 70] \n",
      "\n",
      "[62 66] \n",
      "\n"
     ]
    }
   ],
   "source": [
    "# 2-D Array\n",
    "l = np.array([[23,25,27,29],[43,45,47,49],[62,66,68,70]])\n",
    "print(l, \"\\n\")\n",
    "print(l[0,3], \"\\n\")\n",
    "print(l[1,2], \"\\n\")\n",
    "print(l[2,3], \"\\n\")\n",
    "print(l[0,1], \"\\n\")\n",
    "print(l[0:2,1], \"\\n\")\n",
    "print(l[-1], \"\\n\")\n",
    "print(l[-1,0:2], \"\\n\")"
   ]
  },
  {
   "cell_type": "markdown",
   "id": "7ef6f642",
   "metadata": {},
   "source": [
    "# STACKING"
   ]
  },
  {
   "cell_type": "code",
   "execution_count": 33,
   "id": "b8dbc1c5",
   "metadata": {},
   "outputs": [
    {
     "name": "stdout",
     "output_type": "stream",
     "text": [
      "[[ 0  1  2  3]\n",
      " [ 4  5  6  7]\n",
      " [ 8  9 10 11]] \n",
      "\n",
      "[[12 13 14 15]\n",
      " [16 17 18 19]\n",
      " [20 21 22 23]]\n"
     ]
    }
   ],
   "source": [
    "d = np.arange(12).reshape(3,4)\n",
    "print(d, \"\\n\")\n",
    "f = np.arange(12,24).reshape(3,4)\n",
    "print(f)"
   ]
  },
  {
   "cell_type": "code",
   "execution_count": 34,
   "id": "a1e7b823",
   "metadata": {},
   "outputs": [
    {
     "name": "stdout",
     "output_type": "stream",
     "text": [
      "[[ 0  1  2  3]\n",
      " [ 4  5  6  7]\n",
      " [ 8  9 10 11]] \n",
      "\n",
      "[[12 13 14 15]\n",
      " [16 17 18 19]\n",
      " [20 21 22 23]] \n",
      "\n",
      "[[ 0  1  2  3 12 13 14 15]\n",
      " [ 4  5  6  7 16 17 18 19]\n",
      " [ 8  9 10 11 20 21 22 23]] \n",
      "\n",
      "[[12 13 14 15  0  1  2  3]\n",
      " [16 17 18 19  4  5  6  7]\n",
      " [20 21 22 23  8  9 10 11]] \n",
      "\n"
     ]
    }
   ],
   "source": [
    "print(d, \"\\n\")\n",
    "print(f, \"\\n\")\n",
    "print(np.hstack((d,f)), \"\\n\")\n",
    "print(np.hstack((f,d)), \"\\n\")"
   ]
  },
  {
   "cell_type": "code",
   "execution_count": 35,
   "id": "c9104812",
   "metadata": {},
   "outputs": [
    {
     "name": "stdout",
     "output_type": "stream",
     "text": [
      "[[ 0  1  2  3]\n",
      " [ 4  5  6  7]\n",
      " [ 8  9 10 11]] \n",
      "\n",
      "[[12 13 14 15]\n",
      " [16 17 18 19]\n",
      " [20 21 22 23]] \n",
      "\n",
      "[[ 0  1  2  3]\n",
      " [ 4  5  6  7]\n",
      " [ 8  9 10 11]\n",
      " [12 13 14 15]\n",
      " [16 17 18 19]\n",
      " [20 21 22 23]] \n",
      "\n",
      "[[12 13 14 15]\n",
      " [16 17 18 19]\n",
      " [20 21 22 23]\n",
      " [ 0  1  2  3]\n",
      " [ 4  5  6  7]\n",
      " [ 8  9 10 11]] \n",
      "\n"
     ]
    }
   ],
   "source": [
    "print(d, \"\\n\")\n",
    "print(f, \"\\n\")\n",
    "print(np.vstack((d,f)), \"\\n\")\n",
    "print(np.vstack((f,d)), \"\\n\")"
   ]
  },
  {
   "cell_type": "code",
   "execution_count": 36,
   "id": "1a327c42",
   "metadata": {},
   "outputs": [
    {
     "name": "stdout",
     "output_type": "stream",
     "text": [
      "[ 2  8 10 35 55 60] \n",
      " \n",
      "\n",
      "[ 1  7  9 34 54 59] \n",
      "\n",
      "[  3  15  19  69 109 119] \n",
      "\n",
      "[1 1 1 1 1 1] \n",
      "\n",
      "[   2   56   90 1190 2970 3540] \n",
      "\n",
      "[2.         1.14285714 1.11111111 1.02941176 1.01851852 1.01694915] \n",
      "\n",
      "[2 1 1 1 1 1] \n",
      "\n"
     ]
    }
   ],
   "source": [
    "x = np.array([2,8,10,35,55,60])\n",
    "y = np.array([1,7,9,34,54,59])\n",
    "print(x, \"\\n\",\"\\n\")\n",
    "print(y,\"\\n\")\n",
    "print(x+y, \"\\n\")\n",
    "print(x-y, \"\\n\")\n",
    "print(x*y, \"\\n\")\n",
    "print(x/y, \"\\n\")\n",
    "print(x//y, \"\\n\")"
   ]
  },
  {
   "cell_type": "code",
   "execution_count": 37,
   "id": "8963d9ba",
   "metadata": {},
   "outputs": [
    {
     "name": "stdout",
     "output_type": "stream",
     "text": [
      "[[0. 0. 0.]\n",
      " [0. 0. 0.]\n",
      " [0. 0. 0.]\n",
      " [0. 0. 0.]] \n",
      "\n",
      "[[1. 1. 1.]\n",
      " [1. 1. 1.]\n",
      " [1. 1. 1.]\n",
      " [1. 1. 1.]] \n",
      "\n"
     ]
    }
   ],
   "source": [
    "import numpy as np\n",
    "print(np.zeros((4,3)), \"\\n\")\n",
    "print(np.ones((4,3)), \"\\n\")\n",
    "#IT IS ONLY POSSIBLE FOR ONES AND ZEROS ONLY"
   ]
  },
  {
   "cell_type": "code",
   "execution_count": 38,
   "id": "137ddb87",
   "metadata": {},
   "outputs": [
    {
     "name": "stdout",
     "output_type": "stream",
     "text": [
      "3\n"
     ]
    }
   ],
   "source": [
    "from numpy import random\n",
    "x = random.randint(100)\n",
    "print(x)"
   ]
  },
  {
   "cell_type": "code",
   "execution_count": 39,
   "id": "f982060a",
   "metadata": {},
   "outputs": [
    {
     "name": "stdout",
     "output_type": "stream",
     "text": [
      "[0.29206536 0.19056428 0.71038526]\n"
     ]
    }
   ],
   "source": [
    "#GENRATE RANDOM FLOAT\n",
    "x = random.rand(3)\n",
    "print(x)"
   ]
  },
  {
   "cell_type": "code",
   "execution_count": 40,
   "id": "faec5d09",
   "metadata": {},
   "outputs": [
    {
     "name": "stdout",
     "output_type": "stream",
     "text": [
      "[91  2 48  4 42  7 69 14]\n"
     ]
    }
   ],
   "source": [
    "#GENRATE RANDOM ARRAY\n",
    "\n",
    "from numpy import random\n",
    "x = random.randint(100, size = (8))\n",
    "print(x)"
   ]
  },
  {
   "cell_type": "code",
   "execution_count": 41,
   "id": "9002cfd0",
   "metadata": {},
   "outputs": [
    {
     "name": "stdout",
     "output_type": "stream",
     "text": [
      "[0.80091529 0.18852162 0.13171495 0.7976287  0.15600404 0.81697187]\n"
     ]
    }
   ],
   "source": [
    "#GENRATE RANDOM FLOAT WITH MULTIPLE NUMBER\n",
    "x = random.rand(6)\n",
    "print(x)"
   ]
  },
  {
   "cell_type": "code",
   "execution_count": 42,
   "id": "3db0d70b",
   "metadata": {},
   "outputs": [
    {
     "name": "stdout",
     "output_type": "stream",
     "text": [
      "[[79 84 43 88 41]\n",
      " [ 3 97 71 40 79]\n",
      " [90  8 85 91 17]]\n"
     ]
    }
   ],
   "source": [
    "#GENRATE A 2-D ARRAY WITH 3 ROWS, EACH ROW CONTAINING 5 RANDOM INTEGER FROM 0 TO 100\n",
    "\n",
    "from numpy import random\n",
    "x = random.randint(100, size = (3,5))\n",
    "print(x)"
   ]
  },
  {
   "cell_type": "code",
   "execution_count": 43,
   "id": "210a8ed2",
   "metadata": {},
   "outputs": [
    {
     "name": "stdout",
     "output_type": "stream",
     "text": [
      "input array is  [8]\n",
      "output scalar from input array  [4.67296746e-307 1.69121096e-306 1.78019082e-306 1.89146896e-307\n",
      " 7.56571288e-307 3.11525958e-307 1.24610723e-306 1.29061142e-306]\n"
     ]
    }
   ],
   "source": [
    "#Creating scalars in Numpy\n",
    "#numpy.asscalar()\n",
    "\n",
    "import numpy as np\n",
    "in_arr = np.array([8])\n",
    "\n",
    "print(\"input array is \", in_arr)\n",
    "\n",
    "out_scalar = np.ndarray(in_arr)\n",
    "print(\"output scalar from input array \", out_scalar)"
   ]
  },
  {
   "cell_type": "markdown",
   "id": "ec8032fe",
   "metadata": {},
   "source": [
    "# Creating Vector in Numpy"
   ]
  },
  {
   "cell_type": "code",
   "execution_count": 44,
   "id": "8d5c20ae",
   "metadata": {},
   "outputs": [
    {
     "name": "stdout",
     "output_type": "stream",
     "text": [
      "HORIZONTAL Vector\n",
      "[1 2 3]\n",
      "-------------------\n",
      "VERTICAL Vector\n",
      "[[10]\n",
      " [20]\n",
      " [30]]\n"
     ]
    }
   ],
   "source": [
    "#CREATING THE VECTOR IN NUMPY\n",
    "\n",
    "#IMPORT NUMPY\n",
    "\n",
    "import numpy as np\n",
    "\n",
    "#CRATING 1-D LIST\n",
    "list1 = [1, 2, 3]\n",
    "\n",
    "#CRATING 1-D LIST vertical\n",
    "list2 = [[10],\n",
    "          [20],\n",
    "          [30]]\n",
    "    \n",
    "#CRATING VECTOR1\n",
    "vector1 = np.array(list1)\n",
    "vector2 = np.array(list2)\n",
    "\n",
    "print(\"HORIZONTAL Vector\")\n",
    "print(vector1)\n",
    "\n",
    "print(\"-------------------\")\n",
    "\n",
    "print(\"VERTICAL Vector\")\n",
    "print(vector2)\n"
   ]
  },
  {
   "cell_type": "markdown",
   "id": "f855fb8a",
   "metadata": {},
   "source": [
    "# Creating matrix in Numpy"
   ]
  },
  {
   "cell_type": "code",
   "execution_count": 45,
   "id": "9049ed2d",
   "metadata": {},
   "outputs": [
    {
     "name": "stdout",
     "output_type": "stream",
     "text": [
      "via string input : \n",
      " [[1 2]\n",
      " [3 4]] \n",
      "\n",
      "\n",
      "via array-like input : \n",
      " [[list([5, 6, 7]) list([4, 6])]]\n"
     ]
    },
    {
     "name": "stderr",
     "output_type": "stream",
     "text": [
      "C:\\Users\\patel\\AppData\\Local\\Programs\\Python\\Python310\\lib\\site-packages\\numpy\\matrixlib\\defmatrix.py:145: VisibleDeprecationWarning: Creating an ndarray from ragged nested sequences (which is a list-or-tuple of lists-or-tuples-or ndarrays with different lengths or shapes) is deprecated. If you meant to do this, you must specify 'dtype=object' when creating the ndarray.\n",
      "  arr = N.array(data, dtype=dtype, copy=copy)\n"
     ]
    }
   ],
   "source": [
    "import numpy as np\n",
    "\n",
    "a = np.matrix('1 2; 3 4')\n",
    "print(\"via string input : \\n\", a, \"\\n\\n\")\n",
    "\n",
    "#ARRAY-LIKE INPUT\n",
    "b = np.matrix([[5, 6, 7], [4, 6]])\n",
    "print(\"via array-like input : \\n\", b)\n"
   ]
  },
  {
   "cell_type": "markdown",
   "id": "87aa51f2",
   "metadata": {},
   "source": [
    "# Matrix Multiplication in Numpy"
   ]
  },
  {
   "cell_type": "code",
   "execution_count": 46,
   "id": "e2dcef39",
   "metadata": {},
   "outputs": [
    {
     "name": "stdout",
     "output_type": "stream",
     "text": [
      "[[30 35]\n",
      " [40 45]]\n"
     ]
    }
   ],
   "source": [
    "import numpy as np\n",
    "\n",
    "A = 5 \n",
    "\n",
    "B = [[6, 7],\n",
    "    [8, 9]]\n",
    "\n",
    "print(np.dot(A,B))"
   ]
  },
  {
   "cell_type": "code",
   "execution_count": 47,
   "id": "5775b8aa",
   "metadata": {},
   "outputs": [
    {
     "name": "stdout",
     "output_type": "stream",
     "text": [
      "[[41 67]\n",
      " [53 87]]\n",
      "-------------\n",
      "[[30 34]\n",
      " [86 98]]\n"
     ]
    }
   ],
   "source": [
    "import numpy as np\n",
    "\n",
    "A = [[6, 7],\n",
    "    [8, 9]]\n",
    "\n",
    "B = [[1, 3],\n",
    "    [5, 7]]\n",
    "\n",
    "print(np.dot(A,B))\n",
    "\n",
    "print(\"-------------\")\n",
    "\n",
    "print(np.dot(B,A))"
   ]
  },
  {
   "cell_type": "markdown",
   "id": "3fdcd7e8",
   "metadata": {},
   "source": [
    "# Percentile and Interquartile in Numpy"
   ]
  },
  {
   "cell_type": "code",
   "execution_count": 48,
   "id": "5d55796d",
   "metadata": {},
   "outputs": [
    {
     "name": "stdout",
     "output_type": "stream",
     "text": [
      "34.0\n",
      "96.5\n"
     ]
    }
   ],
   "source": [
    "#PERCENTILE & INTERQURTILE IN NUMPY\n",
    "\n",
    "import numpy as np\n",
    "data = [32, 36, 46, 47, 56, 69, 75, 79, 79, 88, 89, 91, 92, 93, 96, 97, 101, 105, 112, 116]\n",
    "\n",
    "#FIRST QUARTILE(Q1)\n",
    "\n",
    "Q1 = np.median(data[:10])\n",
    "\n",
    "#THIERD quartile\n",
    "Q3 = np.median(data[10:])\n",
    "\n",
    "#interquartile range\n",
    "\n",
    "IQR = Q3-Q1\n",
    "\n",
    "print(IQR)\n",
    "print(Q3)"
   ]
  },
  {
   "cell_type": "markdown",
   "id": "bbed0402",
   "metadata": {},
   "source": [
    "# Array Broadcasting in Numpy"
   ]
  },
  {
   "cell_type": "code",
   "execution_count": 49,
   "id": "b9466d81",
   "metadata": {},
   "outputs": [
    {
     "data": {
      "text/plain": [
       "array([2., 4., 6.])"
      ]
     },
     "execution_count": 49,
     "metadata": {},
     "output_type": "execute_result"
    }
   ],
   "source": [
    "#ARRAY BRODCASTING IN NUMPY\n",
    "\n",
    "a = np.array([1.0, 2.0, 3.0])\n",
    "b = np.array([2.0, 2.0, 2.0])\n",
    "\n",
    "a * b\n"
   ]
  },
  {
   "cell_type": "code",
   "execution_count": 50,
   "id": "7f87f4aa",
   "metadata": {},
   "outputs": [
    {
     "data": {
      "text/plain": [
       "array([2., 4., 6.])"
      ]
     },
     "execution_count": 50,
     "metadata": {},
     "output_type": "execute_result"
    }
   ],
   "source": [
    "a = np.array([1.0, 2.0, 3.0])\n",
    "b = 2.0\n",
    "\n",
    "a * b"
   ]
  }
 ],
 "metadata": {
  "kernelspec": {
   "display_name": "Python 3 (ipykernel)",
   "language": "python",
   "name": "python3"
  },
  "language_info": {
   "codemirror_mode": {
    "name": "ipython",
    "version": 3
   },
   "file_extension": ".py",
   "mimetype": "text/x-python",
   "name": "python",
   "nbconvert_exporter": "python",
   "pygments_lexer": "ipython3",
   "version": "3.10.5"
  }
 },
 "nbformat": 4,
 "nbformat_minor": 5
}
