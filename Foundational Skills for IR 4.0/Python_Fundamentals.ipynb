{
 "cells": [
  {
   "cell_type": "markdown",
   "metadata": {},
   "source": [
    "# Python\n",
    "## Python Variable, Data Types, List, Dictionaries, Packages, Numpy, Slicing"
   ]
  },
  {
   "cell_type": "code",
   "execution_count": 2,
   "metadata": {},
   "outputs": [
    {
     "name": "stdout",
     "output_type": "stream",
     "text": [
      "Namaste Vadodara\n"
     ]
    }
   ],
   "source": [
    "#my first python program\n",
    "\n",
    "print(\"Namaste Vadodara\")"
   ]
  },
  {
   "cell_type": "code",
   "execution_count": 3,
   "metadata": {},
   "outputs": [
    {
     "name": "stdout",
     "output_type": "stream",
     "text": [
      "12\n",
      "200.5\n",
      "Intel\n",
      "True\n"
     ]
    }
   ],
   "source": [
    "#variable and data types\n",
    "\n",
    "var1 = 12  # delcare int value\n",
    "var2 = 200.50 #declare floating value\n",
    "var3 = \"Intel\" #declare string\n",
    "var4 = True #declare Character\n",
    "\n",
    "print (var1)\n",
    "print (var2)\n",
    "print (var3)\n",
    "print(var4)"
   ]
  },
  {
   "cell_type": "code",
   "execution_count": 4,
   "metadata": {},
   "outputs": [
    {
     "name": "stdout",
     "output_type": "stream",
     "text": [
      "<class 'int'>\n",
      "<class 'float'>\n",
      "<class 'str'>\n",
      "<class 'bool'>\n"
     ]
    }
   ],
   "source": [
    "#print the data types of variable\n",
    "print (type(var1))\n",
    "print (type(var2))\n",
    "print (type(var3))\n",
    "print (type(var4))\n"
   ]
  },
  {
   "cell_type": "code",
   "execution_count": 5,
   "metadata": {},
   "outputs": [
    {
     "name": "stdout",
     "output_type": "stream",
     "text": [
      "3.0\n",
      "2406.0\n"
     ]
    }
   ],
   "source": [
    "var5 = var1/4\n",
    "var6 = var1 * var2\n",
    "\n",
    "print(var5)\n",
    "print(var6)"
   ]
  },
  {
   "cell_type": "code",
   "execution_count": 6,
   "metadata": {},
   "outputs": [
    {
     "name": "stdout",
     "output_type": "stream",
     "text": [
      "2925\n"
     ]
    }
   ],
   "source": [
    "#use input keyword to take input from user\n",
    "\n",
    "#aks user to enter the value and store it in varialbe x\n",
    "\n",
    "x = int(input(\"Enter the value of x : \"))\n",
    "\n",
    "#aks user to enter the value and store it in varialbe y\n",
    "\n",
    "y = int(input(\"Enter the value of y : \"))\n",
    "\n",
    "#perform multiplication of x and y and store answer in variable Z\n",
    "\n",
    "z = x*y\n",
    "\n",
    "#Print answer\n",
    "\n",
    "print(z)"
   ]
  },
  {
   "cell_type": "code",
   "execution_count": 7,
   "metadata": {},
   "outputs": [
    {
     "name": "stdout",
     "output_type": "stream",
     "text": [
      "ITM\n",
      "<class 'str'>\n",
      "Universe\n",
      "<class 'str'>\n",
      "ITMUniverse\n"
     ]
    }
   ],
   "source": [
    "#string Concatenation\n",
    "\n",
    "str1 = \"ITM\"\n",
    "print(str1)\n",
    "print(type(str1))\n",
    "\n",
    "str2 = \"Universe\"\n",
    "print(str2)\n",
    "print(type(str2))\n",
    "\n",
    "#concatenation of str1 and str2 and store in str3\n",
    "str3 = str1 + str2\n",
    "\n",
    "print(str3)"
   ]
  },
  {
   "cell_type": "code",
   "execution_count": null,
   "metadata": {},
   "outputs": [],
   "source": [
    "#string indexing and slicing\n",
    "\n",
    "   # U N I V E R S E\n",
    "    \n",
    "    #0 1 2 3 4\n",
    "    \n",
    "    #-5 -4 -3 -2 -1"
   ]
  },
  {
   "cell_type": "raw",
   "metadata": {
    "vscode": {
     "languageId": "raw"
    }
   },
   "source": [
    "            \n",
    "            \n",
    "String                      U  N  I  V  E  R  S  E\n",
    "            \n",
    "Slice from Front            0  1  2  3  4  5  6  7     Index from Front\n",
    "            \n",
    "Slice from rear           -10 -9 -8 -7 -6 -5 -4 -3     Index From rear "
   ]
  },
  {
   "cell_type": "code",
   "execution_count": 8,
   "metadata": {},
   "outputs": [
    {
     "name": "stdout",
     "output_type": "stream",
     "text": [
      "Universe\n",
      "8\n"
     ]
    }
   ],
   "source": [
    "name = \"Universe\"\n",
    "\n",
    "print(name)\n",
    "print(len(name))\n"
   ]
  },
  {
   "cell_type": "code",
   "execution_count": 9,
   "metadata": {},
   "outputs": [
    {
     "data": {
      "text/plain": [
       "'v'"
      ]
     },
     "execution_count": 9,
     "metadata": {},
     "output_type": "execute_result"
    }
   ],
   "source": [
    "name[3]"
   ]
  },
  {
   "cell_type": "code",
   "execution_count": 10,
   "metadata": {},
   "outputs": [
    {
     "data": {
      "text/plain": [
       "'nive'"
      ]
     },
     "execution_count": 10,
     "metadata": {},
     "output_type": "execute_result"
    }
   ],
   "source": [
    "name[1:5]"
   ]
  },
  {
   "cell_type": "code",
   "execution_count": 11,
   "metadata": {},
   "outputs": [
    {
     "data": {
      "text/plain": [
       "'Univer'"
      ]
     },
     "execution_count": 11,
     "metadata": {},
     "output_type": "execute_result"
    }
   ],
   "source": [
    "name[:6]"
   ]
  },
  {
   "cell_type": "code",
   "execution_count": 12,
   "metadata": {},
   "outputs": [
    {
     "data": {
      "text/plain": [
       "'rse'"
      ]
     },
     "execution_count": 12,
     "metadata": {},
     "output_type": "execute_result"
    }
   ],
   "source": [
    "name[5:]"
   ]
  },
  {
   "cell_type": "code",
   "execution_count": 13,
   "metadata": {},
   "outputs": [
    {
     "data": {
      "text/plain": [
       "'Univers'"
      ]
     },
     "execution_count": 13,
     "metadata": {},
     "output_type": "execute_result"
    }
   ],
   "source": [
    "name[-10:-1]"
   ]
  },
  {
   "cell_type": "markdown",
   "metadata": {},
   "source": [
    "# Tuples in Python \n",
    "\n",
    "Tuples are used to store multiple items in a single variable.\n",
    "\n",
    "Tuple is one of 4 built-in data types in Python used to store collections of data, the other 3 are List, Set, and Dictionary, all with different qualities and usage.\n",
    "\n",
    "A tuple is a collection which is ordered and unchangeable.\n",
    "Foramt \n",
    "\n",
    "Tuple = (val1, val2, val2,....)"
   ]
  },
  {
   "cell_type": "code",
   "execution_count": 14,
   "metadata": {},
   "outputs": [
    {
     "name": "stdout",
     "output_type": "stream",
     "text": [
      "('ITM', 22, 'Parth', 45.5, 'Vadodara', 99)\n",
      "<class 'tuple'>\n"
     ]
    }
   ],
   "source": [
    "#create tuples -\n",
    "\n",
    "tup1 = (\"ITM\", 22, \"Parth\", 45.5, \"Vadodara\", 99)\n",
    "\n",
    "print(tup1)\n",
    "print(type(tup1))"
   ]
  },
  {
   "cell_type": "code",
   "execution_count": 15,
   "metadata": {},
   "outputs": [
    {
     "data": {
      "text/plain": [
       "'Vadodara'"
      ]
     },
     "execution_count": 15,
     "metadata": {},
     "output_type": "execute_result"
    }
   ],
   "source": [
    "tup1[4]"
   ]
  },
  {
   "cell_type": "code",
   "execution_count": 16,
   "metadata": {},
   "outputs": [
    {
     "data": {
      "text/plain": [
       "('Parth', 45.5)"
      ]
     },
     "execution_count": 16,
     "metadata": {},
     "output_type": "execute_result"
    }
   ],
   "source": [
    "tup1[2:4]"
   ]
  },
  {
   "cell_type": "code",
   "execution_count": 17,
   "metadata": {},
   "outputs": [
    {
     "name": "stdout",
     "output_type": "stream",
     "text": [
      "('ITM', 22, 'Parth', 45.5, 'Vadodara', 99, 'python', 87)\n"
     ]
    }
   ],
   "source": [
    "tup2=(\"python\", 87)\n",
    "\n",
    "tup3 = tup1 + tup2\n",
    "print(tup3)"
   ]
  },
  {
   "cell_type": "code",
   "execution_count": 23,
   "metadata": {},
   "outputs": [
    {
     "name": "stdout",
     "output_type": "stream",
     "text": [
      "('ITM', 22, 'Parth', 'Vadodara', 99, 'python', 87)\n"
     ]
    }
   ],
   "source": [
    "#immutable \n",
    "# Tuples in Python #+\n",
    "# ... previous code remains the same ...#+\n",
    "#+\n",
    "tup3 = tup1 + tup2#+\n",
    "#+\n",
    "# Fix: Convert tuple to list to perform deletion#+\n",
    "tup3 = list(tup3)#+\n",
    "del tup3[3]#+\n",
    "tup3 = tuple(tup3)#+\n",
    "#+\n",
    "print(tup3)#"
   ]
  },
  {
   "cell_type": "markdown",
   "metadata": {},
   "source": [
    "# List in Python\n",
    "Lists are used to store multiple items in a single variable.\n",
    "\n",
    "Lists are one of 4 built-in data types in Python used to store collections of data, the other 3 are Tuple, Set, and Dictionary, all with different qualities and usage.\n",
    "\n",
    "Lists are created using square brackets:\n",
    "\n",
    "List Items\n",
    "\n",
    "List items are ordered, changeable, and allow duplicate values.\n",
    "\n",
    "List items are indexed, the first item has index [0], the second item has index [1] etc."
   ]
  },
  {
   "cell_type": "code",
   "execution_count": 24,
   "metadata": {},
   "outputs": [
    {
     "name": "stdout",
     "output_type": "stream",
     "text": [
      "<class 'list'>\n"
     ]
    }
   ],
   "source": [
    "#create list\n",
    "\n",
    "\n",
    "\n",
    "lst1 = [\"ITM\", 22, \"Parth\", 45.5, \"Vadodara\", 99]\n",
    "lst1\n",
    "\n",
    "print(type(lst1))"
   ]
  },
  {
   "cell_type": "code",
   "execution_count": 25,
   "metadata": {},
   "outputs": [
    {
     "data": {
      "text/plain": [
       "45.5"
      ]
     },
     "execution_count": 25,
     "metadata": {},
     "output_type": "execute_result"
    }
   ],
   "source": [
    "lst1[3]"
   ]
  },
  {
   "cell_type": "code",
   "execution_count": 26,
   "metadata": {},
   "outputs": [
    {
     "data": {
      "text/plain": [
       "6"
      ]
     },
     "execution_count": 26,
     "metadata": {},
     "output_type": "execute_result"
    }
   ],
   "source": [
    "len(lst1)"
   ]
  },
  {
   "cell_type": "code",
   "execution_count": 27,
   "metadata": {},
   "outputs": [],
   "source": [
    "lst1.remove(22)"
   ]
  },
  {
   "cell_type": "code",
   "execution_count": 28,
   "metadata": {},
   "outputs": [
    {
     "data": {
      "text/plain": [
       "['ITM', 'Parth', 45.5, 'Vadodara', 99]"
      ]
     },
     "execution_count": 28,
     "metadata": {},
     "output_type": "execute_result"
    }
   ],
   "source": [
    "lst1\n"
   ]
  },
  {
   "cell_type": "code",
   "execution_count": 29,
   "metadata": {},
   "outputs": [
    {
     "data": {
      "text/plain": [
       "['Parth', 45.5, 'Vadodara', 99]"
      ]
     },
     "execution_count": 29,
     "metadata": {},
     "output_type": "execute_result"
    }
   ],
   "source": [
    "del lst1[0]\n",
    "lst1"
   ]
  },
  {
   "cell_type": "markdown",
   "metadata": {},
   "source": [
    "# Disctionary\n",
    "Dictionaries are used to store data values in key:value pairs.\n",
    "Dictionaries are written with curly brackets, and have keys and values:"
   ]
  },
  {
   "cell_type": "code",
   "execution_count": 30,
   "metadata": {},
   "outputs": [
    {
     "name": "stdout",
     "output_type": "stream",
     "text": [
      "{'University': 'ITM', 'Course': 'Computer Science & Engineering', 'Branch': 'Electronics'}\n",
      "{1: 'ITM', 2: 'Artificial Intelligence', 3: 'Electronics'}\n",
      "dict_keys([1, 2, 3])\n",
      "dict_values(['ITM', 'Artificial Intelligence', 'Electronics'])\n",
      "{'one': 'This is an value of Key ONE', 2: 'This is TWO '}\n"
     ]
    }
   ],
   "source": [
    "dict1 = { \"University\" : \"ITM\", \"Course\" : \"Computer Science & Engineering\", \"Branch\": \"Electronics\"}\n",
    "print(dict1)\n",
    "\n",
    "dict2 = { 1 : \"ITM\", 2 : \"Artificial Intelligence\", 3: \"Electronics\"}\n",
    "print(dict2)\n",
    "\n",
    "#print only key values\n",
    "print(dict2.keys())\n",
    "\n",
    "#print only values\n",
    "print(dict2.values())\n",
    "\n",
    "# create dictionary with single value\n",
    "dict3 = {}\n",
    "dict3 ['one'] = \"This is an value of Key ONE\"\n",
    "dict3 [2] = \"This is TWO \"\n",
    "print(dict3)\n"
   ]
  },
  {
   "cell_type": "code",
   "execution_count": 31,
   "metadata": {},
   "outputs": [
    {
     "name": "stdout",
     "output_type": "stream",
     "text": [
      "3\n",
      "<class 'dict'>\n"
     ]
    }
   ],
   "source": [
    "print(len(dict1))\n",
    "print(type(dict1))\n"
   ]
  },
  {
   "cell_type": "code",
   "execution_count": 32,
   "metadata": {},
   "outputs": [
    {
     "name": "stdout",
     "output_type": "stream",
     "text": [
      "ITM\n"
     ]
    },
    {
     "data": {
      "text/plain": [
       "'Artificial Intelligence'"
      ]
     },
     "execution_count": 32,
     "metadata": {},
     "output_type": "execute_result"
    }
   ],
   "source": [
    "x=dict1['University']\n",
    "print(x)\n",
    "\n",
    "y = dict2[2]\n",
    "y"
   ]
  },
  {
   "cell_type": "code",
   "execution_count": 33,
   "metadata": {},
   "outputs": [
    {
     "data": {
      "text/plain": [
       "3.141592653589793"
      ]
     },
     "execution_count": 33,
     "metadata": {},
     "output_type": "execute_result"
    }
   ],
   "source": [
    "from math import pi\n",
    "pi"
   ]
  },
  {
   "cell_type": "code",
   "execution_count": 36,
   "metadata": {},
   "outputs": [
    {
     "name": "stdout",
     "output_type": "stream",
     "text": [
      "113.09733552923255\n"
     ]
    }
   ],
   "source": [
    "#find the area of circle\n",
    "\n",
    "r = 6\n",
    "area = pi*r*r\n",
    "\n",
    "print(area)"
   ]
  },
  {
   "cell_type": "code",
   "execution_count": 35,
   "metadata": {},
   "outputs": [
    {
     "name": "stdout",
     "output_type": "stream",
     "text": [
      "0\n",
      "1\n",
      "2\n",
      "3\n",
      "4\n",
      "5\n",
      "6\n",
      "7\n",
      "8\n",
      "9\n",
      "10\n",
      "11\n",
      "12\n",
      "13\n",
      "14\n"
     ]
    }
   ],
   "source": [
    "for i in range(15):\n",
    "    print(i)"
   ]
  },
  {
   "cell_type": "code",
   "execution_count": 37,
   "metadata": {},
   "outputs": [
    {
     "name": "stdout",
     "output_type": "stream",
     "text": [
      "0\n",
      "4\n",
      "8\n",
      "12\n",
      "16\n"
     ]
    }
   ],
   "source": [
    "for i in range(0,20,4):\n",
    "    print(i)"
   ]
  },
  {
   "cell_type": "code",
   "execution_count": 38,
   "metadata": {},
   "outputs": [
    {
     "name": "stdout",
     "output_type": "stream",
     "text": [
      "select operation\n",
      "1. Add\n",
      "2. Subtract\n",
      "3. Multiply\n",
      "4. Divide\n",
      "56 - 65 = -9\n"
     ]
    }
   ],
   "source": [
    "#program to make simple calculator that can add, substract, mul, division\n",
    "\n",
    "#this function adds two numbers\n",
    "def add(x,y):\n",
    "    return x+y\n",
    "\n",
    "#this function subtract two numbers\n",
    "def subtract(x,y):\n",
    "    return x-y\n",
    "\n",
    "#this function multiplies two numbers\n",
    "def multiply(x,y):\n",
    "    return x*y\n",
    "\n",
    "#this function division two numbers\n",
    "def divide(x,y):\n",
    "    return x/y\n",
    "\n",
    "print(\"select operation\")\n",
    "print(\"1. Add\")\n",
    "print(\"2. Subtract\")\n",
    "print(\"3. Multiply\")\n",
    "print(\"4. Divide\")\n",
    "\n",
    "choice = input(\"Enter choice (1/2/3/4): \")\n",
    "\n",
    "num1 = int(input(\"Enter the first number: \"))\n",
    "num2 = int(input(\"Enter the second number: \"))\n",
    "\n",
    "if choice == '1':\n",
    "    print(num1, \"+\",num2, \"=\", add(num1,num2))\n",
    "\n",
    "elif choice == '2':\n",
    "    print(num1, \"-\",num2, \"=\", subtract(num1,num2))\n",
    "    \n",
    "elif choice == '3':\n",
    "    print(num1, \"*\",num2, \"=\", multiply(num1,num2))\n",
    "    \n",
    "elif choice == '4':\n",
    "    print(num1, \"/\",num2, \"=\", divide(num1,num2))\n",
    "    \n",
    "else:\n",
    "    print(\"Invalid Input\")\n",
    "\n",
    "\n"
   ]
  },
  {
   "cell_type": "markdown",
   "metadata": {},
   "source": [
    "# Python Conditional Statement"
   ]
  },
  {
   "cell_type": "code",
   "execution_count": 2,
   "metadata": {},
   "outputs": [
    {
     "name": "stdout",
     "output_type": "stream",
     "text": [
      "5 is a Positive Number\n",
      "This statement is true\n"
     ]
    }
   ],
   "source": [
    "#If statement\n",
    "\n",
    "num= 5\n",
    "if num > 0:\n",
    "    print(num, \"is a Positive Number\")\n",
    "print(\"This statement is true\")"
   ]
  },
  {
   "cell_type": "code",
   "execution_count": 39,
   "metadata": {},
   "outputs": [
    {
     "name": "stdout",
     "output_type": "stream",
     "text": [
      "Negetive Number\n"
     ]
    }
   ],
   "source": [
    "#if else statement\n",
    "\n",
    "num= -10\n",
    "if num > 0:\n",
    "    print(num, \"is a Positive Number\")\n",
    "else:\n",
    "    print(\"Negetive Number\")\n",
    "    "
   ]
  },
  {
   "cell_type": "code",
   "execution_count": 6,
   "metadata": {},
   "outputs": [
    {
     "name": "stdout",
     "output_type": "stream",
     "text": [
      "Positive number\n"
     ]
    }
   ],
   "source": [
    "#nested if\n",
    "\n",
    "num= 5\n",
    "if num >= 0:\n",
    "    if num == 0:\n",
    "        print(\"Zero\")\n",
    "    else:\n",
    "        print(\"Positive number\")\n",
    "else:\n",
    "    print(\"Negetive Number\")\n",
    "    \n",
    "\n",
    "    print(\"Negetive Number\")"
   ]
  },
  {
   "cell_type": "code",
   "execution_count": 40,
   "metadata": {},
   "outputs": [],
   "source": [
    "a=b=c=1"
   ]
  },
  {
   "cell_type": "code",
   "execution_count": 41,
   "metadata": {},
   "outputs": [
    {
     "data": {
      "text/plain": [
       "2488361746672"
      ]
     },
     "execution_count": 41,
     "metadata": {},
     "output_type": "execute_result"
    }
   ],
   "source": [
    "id(a)\n",
    "id(b)\n",
    "id(c)"
   ]
  },
  {
   "cell_type": "code",
   "execution_count": 49,
   "metadata": {},
   "outputs": [
    {
     "name": "stdout",
     "output_type": "stream",
     "text": [
      "Welcome to the Converter which will convert the Degree Farenhiet value to the Degree Celsius.\n",
      "The Value of Temperature in Degree Celsius is :  37.22222222222222\n",
      "Thank You\n"
     ]
    }
   ],
   "source": [
    "#Write a Program to convert degree Farenhiet to Celsius\n",
    "\n",
    "print(\"Welcome to the Converter which will convert the Degree Farenhiet value to the Degree Celsius.\")\n",
    "    \n",
    "F = int(input(\"Please Enter the Value of temperature in Degree Farenhiet : \"))\n",
    "C = ((F-32)*5)/9\n",
    "\n",
    "        \n",
    "print(\"The Value of Temperature in Degree Celsius is : \", C)\n",
    "print(\"Thank You\")"
   ]
  },
  {
   "cell_type": "code",
   "execution_count": 43,
   "metadata": {},
   "outputs": [
    {
     "name": "stdout",
     "output_type": "stream",
     "text": [
      "59\n",
      "45\n"
     ]
    }
   ],
   "source": [
    "# Exchange the value two variables with the temperorary variables\n",
    "x = int(input(\"Enter the Value Number 1 : \"))\n",
    "y = int(input(\"Enter the Value Number 2 : \"))\n",
    "\n",
    "temp = x\n",
    "x = y\n",
    "y = temp\n",
    "\n",
    "print(x)\n",
    "print(y)"
   ]
  },
  {
   "cell_type": "code",
   "execution_count": 45,
   "metadata": {},
   "outputs": [
    {
     "data": {
      "text/plain": [
       "4.47213595499958"
      ]
     },
     "execution_count": 45,
     "metadata": {},
     "output_type": "execute_result"
    }
   ],
   "source": [
    "#Distance between two Points\n",
    "\n",
    "import math\n",
    "p = (4,5)\n",
    "q = (6,9)\n",
    "math.dist(p,q)"
   ]
  },
  {
   "cell_type": "code",
   "execution_count": 46,
   "metadata": {},
   "outputs": [
    {
     "name": "stdout",
     "output_type": "stream",
     "text": [
      "6.324555320336759\n"
     ]
    }
   ],
   "source": [
    "import math\n",
    "p1 = [4, 8]\n",
    "p2 = [6, 2]\n",
    "distance = math.sqrt( ((p1[0]-p2[0])**2)+((p1[1]-p2[1])**2) )\n",
    "\n",
    "print(distance)"
   ]
  }
 ],
 "metadata": {
  "kernelspec": {
   "display_name": "Python 3",
   "language": "python",
   "name": "python3"
  },
  "language_info": {
   "codemirror_mode": {
    "name": "ipython",
    "version": 3
   },
   "file_extension": ".py",
   "mimetype": "text/x-python",
   "name": "python",
   "nbconvert_exporter": "python",
   "pygments_lexer": "ipython3",
   "version": "3.10.5"
  }
 },
 "nbformat": 4,
 "nbformat_minor": 4
}
